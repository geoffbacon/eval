{
 "cells": [
  {
   "cell_type": "markdown",
   "metadata": {},
   "source": [
    "## Downloading and preprocessing MEN\n",
    "This notebook downloads and preprocessed the [MEN](https://staff.fnwi.uva.nl/e.bruni/resources/MEN) dataset."
   ]
  },
  {
   "cell_type": "code",
   "execution_count": 10,
   "metadata": {},
   "outputs": [
    {
     "name": "stdout",
     "output_type": "stream",
     "text": [
      "env: URL=https://staff.fnwi.uva.nl/e.bruni/resources/MEN.zip\n",
      "--2017-08-10 12:58:05--  https://staff.fnwi.uva.nl/e.bruni/resources/MEN.zip\n",
      "Resolving staff.fnwi.uva.nl... 146.50.61.62\n",
      "Connecting to staff.fnwi.uva.nl|146.50.61.62|:443... connected.\n",
      "HTTP request sent, awaiting response... 200 OK\n",
      "Length: 96854 (95K) [application/zip]\n",
      "Saving to: ‘MEN.zip’\n",
      "\n",
      "MEN.zip             100%[===================>]  94.58K   206KB/s    in 0.5s    \n",
      "\n",
      "2017-08-10 12:58:06 (206 KB/s) - ‘MEN.zip’ saved [96854/96854]\n",
      "\n",
      "Archive:  MEN.zip\n",
      "   creating: MEN/\n",
      "  inflating: MEN/licence.txt         \n",
      "  inflating: MEN/.DS_Store           \n",
      "   creating: MEN/agreement/\n",
      "  inflating: MEN/agreement/elias-men-ratings.txt  \n",
      "  inflating: MEN/agreement/agreement-score.txt  \n",
      "  inflating: MEN/agreement/marcos-men-ratings.txt  \n",
      "  inflating: MEN/instructions.txt    \n",
      "  inflating: MEN/MEN_dataset_lemma_form.test  \n",
      "  inflating: MEN/MEN_dataset_lemma_form.dev  \n",
      "  inflating: MEN/MEN_dataset_lemma_form_full  \n",
      "  inflating: MEN/MEN_dataset_natural_form_full  \n"
     ]
    }
   ],
   "source": [
    "%env URL=https://staff.fnwi.uva.nl/e.bruni/resources/MEN.zip\n",
    "!wget $URL\n",
    "!unzip MEN.zip"
   ]
  },
  {
   "cell_type": "code",
   "execution_count": 11,
   "metadata": {},
   "outputs": [
    {
     "name": "stdout",
     "output_type": "stream",
     "text": [
      "\u001b[34mMEN\u001b[m\u001b[m                     MEN.zip                 preprocessing_men.ipynb\r\n"
     ]
    }
   ],
   "source": [
    "!ls"
   ]
  },
  {
   "cell_type": "code",
   "execution_count": 14,
   "metadata": {},
   "outputs": [
    {
     "name": "stdout",
     "output_type": "stream",
     "text": [
      "MEN_dataset_lemma_form.dev    \u001b[34magreement\u001b[m\u001b[m\r\n",
      "MEN_dataset_lemma_form.test   instructions.txt\r\n",
      "MEN_dataset_lemma_form_full   licence.txt\r\n",
      "MEN_dataset_natural_form_full\r\n"
     ]
    }
   ],
   "source": [
    "!ls MEN"
   ]
  },
  {
   "cell_type": "code",
   "execution_count": 16,
   "metadata": {
    "collapsed": true
   },
   "outputs": [],
   "source": [
    "import pandas as pd"
   ]
  },
  {
   "cell_type": "code",
   "execution_count": 18,
   "metadata": {},
   "outputs": [],
   "source": [
    "raw_data = 'MEN/MEN_dataset_natural_form_full'\n",
    "df = pd.read_csv(raw_data, header=None, sep=' ')"
   ]
  },
  {
   "cell_type": "code",
   "execution_count": 19,
   "metadata": {},
   "outputs": [
    {
     "data": {
      "text/html": [
       "<div>\n",
       "<style>\n",
       "    .dataframe thead tr:only-child th {\n",
       "        text-align: right;\n",
       "    }\n",
       "\n",
       "    .dataframe thead th {\n",
       "        text-align: left;\n",
       "    }\n",
       "\n",
       "    .dataframe tbody tr th {\n",
       "        vertical-align: top;\n",
       "    }\n",
       "</style>\n",
       "<table border=\"1\" class=\"dataframe\">\n",
       "  <thead>\n",
       "    <tr style=\"text-align: right;\">\n",
       "      <th></th>\n",
       "      <th>0</th>\n",
       "      <th>1</th>\n",
       "      <th>2</th>\n",
       "    </tr>\n",
       "  </thead>\n",
       "  <tbody>\n",
       "    <tr>\n",
       "      <th>0</th>\n",
       "      <td>sun</td>\n",
       "      <td>sunlight</td>\n",
       "      <td>50.0</td>\n",
       "    </tr>\n",
       "    <tr>\n",
       "      <th>1</th>\n",
       "      <td>automobile</td>\n",
       "      <td>car</td>\n",
       "      <td>50.0</td>\n",
       "    </tr>\n",
       "    <tr>\n",
       "      <th>2</th>\n",
       "      <td>river</td>\n",
       "      <td>water</td>\n",
       "      <td>49.0</td>\n",
       "    </tr>\n",
       "    <tr>\n",
       "      <th>3</th>\n",
       "      <td>stairs</td>\n",
       "      <td>staircase</td>\n",
       "      <td>49.0</td>\n",
       "    </tr>\n",
       "    <tr>\n",
       "      <th>4</th>\n",
       "      <td>morning</td>\n",
       "      <td>sunrise</td>\n",
       "      <td>49.0</td>\n",
       "    </tr>\n",
       "  </tbody>\n",
       "</table>\n",
       "</div>"
      ],
      "text/plain": [
       "            0          1     2\n",
       "0         sun   sunlight  50.0\n",
       "1  automobile        car  50.0\n",
       "2       river      water  49.0\n",
       "3      stairs  staircase  49.0\n",
       "4     morning    sunrise  49.0"
      ]
     },
     "execution_count": 19,
     "metadata": {},
     "output_type": "execute_result"
    }
   ],
   "source": [
    "df.head()"
   ]
  },
  {
   "cell_type": "code",
   "execution_count": 21,
   "metadata": {
    "collapsed": true
   },
   "outputs": [],
   "source": [
    "df.columns = ['word1', 'word2', 'similarity_out_of_50']"
   ]
  },
  {
   "cell_type": "code",
   "execution_count": 24,
   "metadata": {},
   "outputs": [],
   "source": [
    "df['similarity'] = df['similarity_out_of_50'] / 5"
   ]
  },
  {
   "cell_type": "code",
   "execution_count": 25,
   "metadata": {
    "collapsed": true
   },
   "outputs": [],
   "source": [
    "outfile = '../men.csv'\n",
    "df.to_csv(outfile, index=False)"
   ]
  },
  {
   "cell_type": "code",
   "execution_count": 26,
   "metadata": {},
   "outputs": [
    {
     "name": "stdout",
     "output_type": "stream",
     "text": [
      "rm: \".\" and \"..\" may not be removed\r\n",
      "rm: ./.ipynb_checkpoints: is a directory\r\n",
      "rm: ./MEN: is a directory\r\n",
      "rm: ./MEN/agreement: is a directory\r\n"
     ]
    }
   ],
   "source": [
    "!find . -not -name 'preprocessing_men.ipynb' -print0 | xargs -0 rm --\n",
    "!rm -rf MEN"
   ]
  },
  {
   "cell_type": "code",
   "execution_count": null,
   "metadata": {
    "collapsed": true
   },
   "outputs": [],
   "source": []
  }
 ],
 "metadata": {
  "kernelspec": {
   "display_name": "Python 3",
   "language": "python",
   "name": "python3"
  },
  "language_info": {
   "codemirror_mode": {
    "name": "ipython",
    "version": 3
   },
   "file_extension": ".py",
   "mimetype": "text/x-python",
   "name": "python",
   "nbconvert_exporter": "python",
   "pygments_lexer": "ipython3",
   "version": "3.6.1"
  }
 },
 "nbformat": 4,
 "nbformat_minor": 2
}
