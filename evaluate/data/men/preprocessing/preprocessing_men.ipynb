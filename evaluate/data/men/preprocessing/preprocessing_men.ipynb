{
 "cells": [
  {
   "cell_type": "markdown",
   "metadata": {},
   "source": [
    "## Downloading and preprocessing MEN\n",
    "This notebook downloads and preprocessed the [MEN](https://staff.fnwi.uva.nl/e.bruni/resources/MEN) dataset."
   ]
  },
  {
   "cell_type": "code",
   "execution_count": 1,
   "metadata": {},
   "outputs": [
    {
     "name": "stdout",
     "output_type": "stream",
     "text": [
      "env: URL=https://staff.fnwi.uva.nl/e.bruni/resources/MEN.zip\n",
      "--2017-08-11 11:40:43--  https://staff.fnwi.uva.nl/e.bruni/resources/MEN.zip\n",
      "Resolving staff.fnwi.uva.nl... 146.50.61.62\n",
      "Connecting to staff.fnwi.uva.nl|146.50.61.62|:443... connected.\n",
      "HTTP request sent, awaiting response... 200 OK\n",
      "Length: 96854 (95K) [application/zip]\n",
      "Saving to: ‘MEN.zip’\n",
      "\n",
      "MEN.zip             100%[===================>]  94.58K   125KB/s    in 0.8s    \n",
      "\n",
      "2017-08-11 11:40:45 (125 KB/s) - ‘MEN.zip’ saved [96854/96854]\n",
      "\n",
      "Archive:  MEN.zip\n",
      "   creating: MEN/\n",
      "  inflating: MEN/licence.txt         \n",
      "  inflating: MEN/.DS_Store           \n",
      "   creating: MEN/agreement/\n",
      "  inflating: MEN/agreement/elias-men-ratings.txt  \n",
      "  inflating: MEN/agreement/agreement-score.txt  \n",
      "  inflating: MEN/agreement/marcos-men-ratings.txt  \n",
      "  inflating: MEN/instructions.txt    \n",
      "  inflating: MEN/MEN_dataset_lemma_form.test  \n",
      "  inflating: MEN/MEN_dataset_lemma_form.dev  \n",
      "  inflating: MEN/MEN_dataset_lemma_form_full  \n",
      "  inflating: MEN/MEN_dataset_natural_form_full  \n"
     ]
    }
   ],
   "source": [
    "%env URL=https://staff.fnwi.uva.nl/e.bruni/resources/MEN.zip\n",
    "!wget $URL\n",
    "!unzip MEN.zip"
   ]
  },
  {
   "cell_type": "code",
   "execution_count": 2,
   "metadata": {},
   "outputs": [
    {
     "name": "stdout",
     "output_type": "stream",
     "text": [
      "\u001b[34mMEN\u001b[m\u001b[m                     MEN.zip                 preprocessing_men.ipynb\r\n"
     ]
    }
   ],
   "source": [
    "!ls"
   ]
  },
  {
   "cell_type": "code",
   "execution_count": 1,
   "metadata": {},
   "outputs": [
    {
     "name": "stdout",
     "output_type": "stream",
     "text": [
      "MEN_dataset_lemma_form.dev    \u001b[34magreement\u001b[m\u001b[m\r\n",
      "MEN_dataset_lemma_form.test   instructions.txt\r\n",
      "MEN_dataset_lemma_form_full   licence.txt\r\n",
      "MEN_dataset_natural_form_full\r\n"
     ]
    }
   ],
   "source": [
    "!ls MEN"
   ]
  },
  {
   "cell_type": "code",
   "execution_count": 2,
   "metadata": {
    "collapsed": true
   },
   "outputs": [],
   "source": [
    "import pandas as pd"
   ]
  },
  {
   "cell_type": "code",
   "execution_count": 18,
   "metadata": {
    "collapsed": true
   },
   "outputs": [],
   "source": [
    "raw_data = 'MEN/MEN_dataset_natural_form_full'\n",
    "df = pd.read_csv(raw_data, header=None, sep=' ')"
   ]
  },
  {
   "cell_type": "code",
   "execution_count": 19,
   "metadata": {},
   "outputs": [
    {
     "data": {
      "text/html": [
       "<div>\n",
       "<style>\n",
       "    .dataframe thead tr:only-child th {\n",
       "        text-align: right;\n",
       "    }\n",
       "\n",
       "    .dataframe thead th {\n",
       "        text-align: left;\n",
       "    }\n",
       "\n",
       "    .dataframe tbody tr th {\n",
       "        vertical-align: top;\n",
       "    }\n",
       "</style>\n",
       "<table border=\"1\" class=\"dataframe\">\n",
       "  <thead>\n",
       "    <tr style=\"text-align: right;\">\n",
       "      <th></th>\n",
       "      <th>0</th>\n",
       "      <th>1</th>\n",
       "      <th>2</th>\n",
       "    </tr>\n",
       "  </thead>\n",
       "  <tbody>\n",
       "    <tr>\n",
       "      <th>0</th>\n",
       "      <td>sun</td>\n",
       "      <td>sunlight</td>\n",
       "      <td>50.0</td>\n",
       "    </tr>\n",
       "    <tr>\n",
       "      <th>1</th>\n",
       "      <td>automobile</td>\n",
       "      <td>car</td>\n",
       "      <td>50.0</td>\n",
       "    </tr>\n",
       "    <tr>\n",
       "      <th>2</th>\n",
       "      <td>river</td>\n",
       "      <td>water</td>\n",
       "      <td>49.0</td>\n",
       "    </tr>\n",
       "    <tr>\n",
       "      <th>3</th>\n",
       "      <td>stairs</td>\n",
       "      <td>staircase</td>\n",
       "      <td>49.0</td>\n",
       "    </tr>\n",
       "    <tr>\n",
       "      <th>4</th>\n",
       "      <td>morning</td>\n",
       "      <td>sunrise</td>\n",
       "      <td>49.0</td>\n",
       "    </tr>\n",
       "  </tbody>\n",
       "</table>\n",
       "</div>"
      ],
      "text/plain": [
       "            0          1     2\n",
       "0         sun   sunlight  50.0\n",
       "1  automobile        car  50.0\n",
       "2       river      water  49.0\n",
       "3      stairs  staircase  49.0\n",
       "4     morning    sunrise  49.0"
      ]
     },
     "execution_count": 19,
     "metadata": {},
     "output_type": "execute_result"
    }
   ],
   "source": [
    "df.head()"
   ]
  },
  {
   "cell_type": "code",
   "execution_count": 21,
   "metadata": {
    "collapsed": true
   },
   "outputs": [],
   "source": [
    "df.columns = ['word1', 'word2', 'similarity_out_of_50']"
   ]
  },
  {
   "cell_type": "code",
   "execution_count": 24,
   "metadata": {
    "collapsed": true
   },
   "outputs": [],
   "source": [
    "df['similarity'] = df['similarity_out_of_50'] / 5"
   ]
  },
  {
   "cell_type": "code",
   "execution_count": 25,
   "metadata": {
    "collapsed": true
   },
   "outputs": [],
   "source": [
    "outfile = '../men.csv'\n",
    "df.to_csv(outfile, index=False)"
   ]
  },
  {
   "cell_type": "markdown",
   "metadata": {},
   "source": [
    "Now get the agreement data, that is, the ratings from two of the authors on a 1-7 scale. These are stored in the two texts files labelled *-men-ratings.txt."
   ]
  },
  {
   "cell_type": "code",
   "execution_count": 3,
   "metadata": {},
   "outputs": [
    {
     "name": "stdout",
     "output_type": "stream",
     "text": [
      "agreement-score.txt    elias-men-ratings.txt  marcos-men-ratings.txt\r\n"
     ]
    }
   ],
   "source": [
    "!ls MEN/agreement"
   ]
  },
  {
   "cell_type": "code",
   "execution_count": 8,
   "metadata": {},
   "outputs": [
    {
     "name": "stdout",
     "output_type": "stream",
     "text": [
      "hamster\tparty\t1\t\r\n",
      "bed\tsleep\t6\r\n",
      "raspberry\tstrawberry\t6\r\n",
      "cooking\tfruit\t5\r\n",
      "downtown\tshopping\t4\r\n",
      "drug\twolf\t2\r\n",
      "colorful\toutfit\t6\r\n",
      "burger\tmac\t5\r\n",
      "frost\tweather\t5\t\r\n",
      "arch\tconcrete\t2\r\n"
     ]
    }
   ],
   "source": [
    "!head MEN/agreement/elias-men-ratings.txt"
   ]
  },
  {
   "cell_type": "code",
   "execution_count": 21,
   "metadata": {},
   "outputs": [
    {
     "data": {
      "text/html": [
       "<div>\n",
       "<style>\n",
       "    .dataframe thead tr:only-child th {\n",
       "        text-align: right;\n",
       "    }\n",
       "\n",
       "    .dataframe thead th {\n",
       "        text-align: left;\n",
       "    }\n",
       "\n",
       "    .dataframe tbody tr th {\n",
       "        vertical-align: top;\n",
       "    }\n",
       "</style>\n",
       "<table border=\"1\" class=\"dataframe\">\n",
       "  <thead>\n",
       "    <tr style=\"text-align: right;\">\n",
       "      <th></th>\n",
       "      <th>0</th>\n",
       "      <th>1</th>\n",
       "      <th>2</th>\n",
       "    </tr>\n",
       "  </thead>\n",
       "  <tbody>\n",
       "    <tr>\n",
       "      <th>0</th>\n",
       "      <td>hamster</td>\n",
       "      <td>party</td>\n",
       "      <td>1</td>\n",
       "    </tr>\n",
       "    <tr>\n",
       "      <th>1</th>\n",
       "      <td>bed</td>\n",
       "      <td>sleep</td>\n",
       "      <td>6</td>\n",
       "    </tr>\n",
       "    <tr>\n",
       "      <th>2</th>\n",
       "      <td>raspberry</td>\n",
       "      <td>strawberry</td>\n",
       "      <td>6</td>\n",
       "    </tr>\n",
       "    <tr>\n",
       "      <th>3</th>\n",
       "      <td>cooking</td>\n",
       "      <td>fruit</td>\n",
       "      <td>5</td>\n",
       "    </tr>\n",
       "    <tr>\n",
       "      <th>4</th>\n",
       "      <td>downtown</td>\n",
       "      <td>shopping</td>\n",
       "      <td>4</td>\n",
       "    </tr>\n",
       "  </tbody>\n",
       "</table>\n",
       "</div>"
      ],
      "text/plain": [
       "           0           1  2\n",
       "0    hamster       party  1\n",
       "1        bed       sleep  6\n",
       "2  raspberry  strawberry  6\n",
       "3    cooking       fruit  5\n",
       "4   downtown    shopping  4"
      ]
     },
     "execution_count": 21,
     "metadata": {},
     "output_type": "execute_result"
    }
   ],
   "source": [
    "elias = pd.read_csv('MEN/agreement/elias-men-ratings.txt', sep='\\s+', header=None) # weird format with spaces and tabs separating columns\n",
    "marcos = pd.read_csv('MEN/agreement/marcos-men-ratings.txt', sep='\\s+', header=None)\n",
    "elias.head()"
   ]
  },
  {
   "cell_type": "markdown",
   "metadata": {},
   "source": [
    "Just renaming the columns"
   ]
  },
  {
   "cell_type": "code",
   "execution_count": 22,
   "metadata": {},
   "outputs": [],
   "source": [
    "cols = ['word1', 'word2', 'similarity_out_of_7']\n",
    "elias.columns = cols\n",
    "marcos.columns = cols"
   ]
  },
  {
   "cell_type": "markdown",
   "metadata": {},
   "source": [
    "The 'similarity_out_of_7' column was read in as a string. Fix that:"
   ]
  },
  {
   "cell_type": "code",
   "execution_count": 23,
   "metadata": {
    "collapsed": true
   },
   "outputs": [],
   "source": [
    "elias['similarity_out_of_7'] = pd.to_numeric(elias['similarity_out_of_7'].str.strip())\n",
    "marcos['similarity_out_of_7'] = pd.to_numeric(marcos['similarity_out_of_7'].str.strip())"
   ]
  },
  {
   "cell_type": "code",
   "execution_count": 25,
   "metadata": {},
   "outputs": [
    {
     "data": {
      "text/html": [
       "<div>\n",
       "<style>\n",
       "    .dataframe thead tr:only-child th {\n",
       "        text-align: right;\n",
       "    }\n",
       "\n",
       "    .dataframe thead th {\n",
       "        text-align: left;\n",
       "    }\n",
       "\n",
       "    .dataframe tbody tr th {\n",
       "        vertical-align: top;\n",
       "    }\n",
       "</style>\n",
       "<table border=\"1\" class=\"dataframe\">\n",
       "  <thead>\n",
       "    <tr style=\"text-align: right;\">\n",
       "      <th></th>\n",
       "      <th>word1</th>\n",
       "      <th>word2</th>\n",
       "      <th>similarity_out_of_7</th>\n",
       "      <th>similarity</th>\n",
       "    </tr>\n",
       "  </thead>\n",
       "  <tbody>\n",
       "    <tr>\n",
       "      <th>0</th>\n",
       "      <td>burger</td>\n",
       "      <td>sandwich</td>\n",
       "      <td>6</td>\n",
       "      <td>8.333333</td>\n",
       "    </tr>\n",
       "    <tr>\n",
       "      <th>1</th>\n",
       "      <td>blue</td>\n",
       "      <td>violet</td>\n",
       "      <td>6</td>\n",
       "      <td>8.333333</td>\n",
       "    </tr>\n",
       "    <tr>\n",
       "      <th>2</th>\n",
       "      <td>splash</td>\n",
       "      <td>wash</td>\n",
       "      <td>4</td>\n",
       "      <td>5.000000</td>\n",
       "    </tr>\n",
       "    <tr>\n",
       "      <th>3</th>\n",
       "      <td>rust</td>\n",
       "      <td>rusty</td>\n",
       "      <td>7</td>\n",
       "      <td>10.000000</td>\n",
       "    </tr>\n",
       "    <tr>\n",
       "      <th>4</th>\n",
       "      <td>snake</td>\n",
       "      <td>strawberry</td>\n",
       "      <td>1</td>\n",
       "      <td>0.000000</td>\n",
       "    </tr>\n",
       "  </tbody>\n",
       "</table>\n",
       "</div>"
      ],
      "text/plain": [
       "    word1       word2  similarity_out_of_7  similarity\n",
       "0  burger    sandwich                    6    8.333333\n",
       "1    blue      violet                    6    8.333333\n",
       "2  splash        wash                    4    5.000000\n",
       "3    rust       rusty                    7   10.000000\n",
       "4   snake  strawberry                    1    0.000000"
      ]
     },
     "execution_count": 25,
     "metadata": {},
     "output_type": "execute_result"
    }
   ],
   "source": [
    "elias['similarity'] = 10 * (elias['similarity_out_of_7'] - 1)/6\n",
    "marcos['similarity'] = 10 * (marcos['similarity_out_of_7'] - 1)/6\n",
    "marcos.head()"
   ]
  },
  {
   "cell_type": "markdown",
   "metadata": {},
   "source": [
    "Write to file"
   ]
  },
  {
   "cell_type": "code",
   "execution_count": 28,
   "metadata": {
    "collapsed": true
   },
   "outputs": [],
   "source": [
    "outfile = '../elias-men.csv'\n",
    "elias.to_csv(outfile, index=False)\n",
    "outfile = '../marcos-men.csv'\n",
    "marcos.to_csv(outfile, index=False)"
   ]
  },
  {
   "cell_type": "code",
   "execution_count": 29,
   "metadata": {},
   "outputs": [
    {
     "name": "stdout",
     "output_type": "stream",
     "text": [
      "rm: \".\" and \"..\" may not be removed\r\n",
      "rm: ./.ipynb_checkpoints: is a directory\r\n"
     ]
    }
   ],
   "source": [
    "!find . -not -name 'preprocessing_men.ipynb' -print0 | xargs -0 rm --\n",
    "!rm -rf MEN"
   ]
  },
  {
   "cell_type": "code",
   "execution_count": null,
   "metadata": {
    "collapsed": true
   },
   "outputs": [],
   "source": []
  }
 ],
 "metadata": {
  "kernelspec": {
   "display_name": "Python 3",
   "language": "python",
   "name": "python3"
  },
  "language_info": {
   "codemirror_mode": {
    "name": "ipython",
    "version": 3
   },
   "file_extension": ".py",
   "mimetype": "text/x-python",
   "name": "python",
   "nbconvert_exporter": "python",
   "pygments_lexer": "ipython3",
   "version": "3.6.1"
  }
 },
 "nbformat": 4,
 "nbformat_minor": 2
}
